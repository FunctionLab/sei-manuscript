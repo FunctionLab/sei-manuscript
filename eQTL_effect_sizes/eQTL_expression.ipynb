{
 "cells": [
  {
   "cell_type": "markdown",
   "metadata": {},
   "source": [
    "This notebook generates Figure 2c in the Sei framework manuscript, showing that regulatory sequence-class-level variant effects are predictive of directional GTEx variant gene expression effects. "
   ]
  },
  {
   "cell_type": "code",
   "execution_count": 1,
   "metadata": {},
   "outputs": [],
   "source": [
    "from collections import defaultdict\n",
    "import glob\n",
    "import os\n",
    "\n",
    "import numpy as np\n",
    "import pandas as pd\n",
    "from scipy.stats import spearmanr\n",
    "from statsmodels.stats.multitest import multipletests\n"
   ]
  },
  {
   "cell_type": "code",
   "execution_count": 2,
   "metadata": {},
   "outputs": [],
   "source": [
    "import matplotlib.pyplot as plt\n",
    "import matplotlib as mpl\n",
    "import seaborn as sns\n",
    "\n",
    "plt.style.use('seaborn-white')\n",
    "\n",
    "mpl.rcParams['axes.spines.right'] = False\n",
    "mpl.rcParams['axes.spines.top'] = False\n",
    "mpl.rcParams['pdf.fonttype'] = 42\n",
    "mpl.rcParams['ps.fonttype'] = 42\n",
    "mpl.rc('xtick', labelsize=24)\n",
    "mpl.rc('ytick', labelsize=24)\n",
    "mpl.rc('axes', titlesize=24)\n",
    "mpl.rc('legend', fontsize=18)\n",
    "\n"
   ]
  },
  {
   "cell_type": "markdown",
   "metadata": {},
   "source": [
    "We downloaded and processed the [GTEx v8 data](https://storage.googleapis.com/gtex_analysis_v8/single_tissue_qtl_data/GTEx_Analysis_v8_eQTL.tar) and [GENCODE transcript .gtf file](https://storage.googleapis.com/gtex_analysis_v8/reference/gencode.v26.GRCh38.genes.gtf) used in the GTEx analyses. Set the data filepaths accordingly:"
   ]
  },
  {
   "cell_type": "code",
   "execution_count": 3,
   "metadata": {},
   "outputs": [],
   "source": [
    "GTEX_DATA_DIR = './data/GTEx_Analysis_v8_eQTL'\n",
    "GENCODE_GTF = './data/gencode.v26.GRCh38.genes.gtf'\n",
    "RESOURCES_DIR = '../resources'\n",
    "SEI_DIR = './sei_data'\n",
    "FIGS_DIR = './figures'"
   ]
  },
  {
   "cell_type": "code",
   "execution_count": 4,
   "metadata": {},
   "outputs": [],
   "source": [
    "SC_NAMES_FILE = os.path.join(RESOURCES_DIR, 'cnames.tsv')\n",
    "df = pd.read_csv(SC_NAMES_FILE, sep='\\t')\n",
    "df.head()\n",
    "MAPPING = {}\n",
    "for row in df.itertuples():\n",
    "    MAPPING[row.index] = '{0} {1}'.format(row.ID, row.name)"
   ]
  },
  {
   "cell_type": "code",
   "execution_count": 5,
   "metadata": {},
   "outputs": [],
   "source": [
    "ensg_gene_coordinates = {}\n",
    "with open(GENCODE_GTF, 'r') as fh:\n",
    "    for line in fh:\n",
    "        if '##' in line:\n",
    "            continue\n",
    "        cols = line.strip().split('\\t')\n",
    "        coordinates = (cols[0], int(cols[3]), int(cols[4]))\n",
    "        ensg_id = cols[8].split(';')[0].split(' ')[1][1:-1]\n",
    "        ensg_gene_coordinates[ensg_id] = coordinates"
   ]
  },
  {
   "cell_type": "markdown",
   "metadata": {},
   "source": [
    "Collect all eQTLs and their effect sizes (slope) for a tissue +/- `N_FROM_TSS` of any gene. Note these next 3 cells will take a few minutes to run."
   ]
  },
  {
   "cell_type": "code",
   "execution_count": 6,
   "metadata": {
    "scrolled": true
   },
   "outputs": [
    {
     "name": "stdout",
     "output_type": "stream",
     "text": [
      "Processing Brain_Cortex\n",
      "Processing Uterus\n",
      "Processing Brain_Hippocampus\n",
      "Processing Skin_Sun_Exposed_Lower_leg\n",
      "Processing Brain_Amygdala\n",
      "Processing Esophagus_Gastroesophageal_Junction\n",
      "Processing Brain_Hypothalamus\n",
      "Processing Adipose_Visceral_Omentum\n",
      "Processing Pituitary\n",
      "Processing Brain_Caudate_basal_ganglia\n",
      "Processing Breast_Mammary_Tissue\n",
      "Processing Minor_Salivary_Gland\n",
      "Processing Brain_Spinal_cord_cervical_c-1\n",
      "Processing Liver\n",
      "Processing Brain_Cerebellar_Hemisphere\n",
      "Processing Colon_Sigmoid\n",
      "Processing Small_Intestine_Terminal_Ileum\n",
      "Processing Stomach\n",
      "Processing Brain_Frontal_Cortex_BA9\n",
      "Processing Adrenal_Gland\n",
      "Processing Artery_Coronary\n",
      "Processing Colon_Transverse\n",
      "Processing Artery_Aorta\n",
      "Processing Brain_Substantia_nigra\n",
      "Processing Thyroid\n",
      "Processing Cells_EBV-transformed_lymphocytes\n",
      "Processing Brain_Nucleus_accumbens_basal_ganglia\n",
      "Processing Adipose_Subcutaneous\n",
      "Processing Skin_Not_Sun_Exposed_Suprapubic\n",
      "Processing Cells_Cultured_fibroblasts\n",
      "Processing Pancreas\n",
      "Processing Muscle_Skeletal\n",
      "Processing Prostate\n",
      "Processing Heart_Left_Ventricle\n",
      "Processing Testis\n",
      "Processing Whole_Blood\n",
      "Processing Kidney_Cortex\n",
      "Processing Spleen\n",
      "Processing Vagina\n",
      "Processing Brain_Cerebellum\n",
      "Processing Heart_Atrial_Appendage\n",
      "Processing Brain_Anterior_cingulate_cortex_BA24\n",
      "Processing Esophagus_Mucosa\n",
      "Processing Brain_Putamen_basal_ganglia\n",
      "Processing Ovary\n",
      "Processing Artery_Tibial\n",
      "Processing Esophagus_Muscularis\n",
      "Processing Nerve_Tibial\n",
      "Processing Lung\n"
     ]
    }
   ],
   "source": [
    "N_FROM_TSS = 5000\n",
    "tissue_variants_near_tss = defaultdict(list)\n",
    "for fp in glob.glob(os.path.join(GTEX_DATA_DIR, '*variant_gene_pairs.txt.gz')):\n",
    "    tissue = os.path.basename(fp).split('.')[0]\n",
    "    print('Processing {0}'.format(tissue))\n",
    "    df = pd.read_csv(fp, sep='\\t')\n",
    "    for v, g in zip(df['variant_id'].tolist(), df['gene_id'].tolist()):\n",
    "        gchrom, gpos, _ = ensg_gene_coordinates[g]\n",
    "        cols = v.split('_')\n",
    "        chrom = cols[0]\n",
    "        pos = int(cols[1])\n",
    "        if pos >= gpos - N_FROM_TSS and pos <= gpos + N_FROM_TSS:\n",
    "            record = {'chrom': chrom,\n",
    "                      'pos': pos,\n",
    "                      'ref': cols[2],\n",
    "                      'alt': cols[3],\n",
    "                      'gene': g}\n",
    "            tissue_variants_near_tss[tissue].append(record)"
   ]
  },
  {
   "cell_type": "code",
   "execution_count": 7,
   "metadata": {},
   "outputs": [],
   "source": [
    "fn_vid_slopes = defaultdict(dict)\n",
    "for fp in glob.glob(os.path.join(GTEX_DATA_DIR, '*variant_gene_pairs.txt.gz')):\n",
    "    df = pd.read_csv(fp, sep='\\t')\n",
    "    fn = os.path.basename(fp).split('.')[0]\n",
    "    for r in df.itertuples():\n",
    "        vcols = r.variant_id.split('_')\n",
    "        vid = (vcols[0], int(vcols[1]), vcols[2], vcols[3])\n",
    "        fn_vid_slopes[fn][vid] = r.slope"
   ]
  },
  {
   "cell_type": "code",
   "execution_count": 8,
   "metadata": {},
   "outputs": [],
   "source": [
    "variants = set()\n",
    "for fp in glob.glob(os.path.join(GTEX_DATA_DIR, '*variant_gene_pairs.txt.gz')):\n",
    "    fn = os.path.basename(fp).split('.')[0]\n",
    "    df = pd.read_csv(fp, sep='\\t')\n",
    "    variants_set = set(df['variant_id'].tolist())\n",
    "    variants |= variants_set\n",
    "\n",
    "variant_records = []\n",
    "for v in variants:\n",
    "    cols = v.split('_')\n",
    "    record = {'chrom': cols[0],\n",
    "              'pos': int(cols[1]),\n",
    "              'ref': cols[2], 'alt': cols[3]}\n",
    "    variant_records.append(record)\n",
    "\n",
    "variants_df = pd.DataFrame.from_records(variant_records)\n",
    "variants_df.sort_values(['chrom', 'pos'], inplace=True)\n",
    "variants_df = variants_df[['chrom', 'pos', 'ref', 'alt']]\n",
    "all_variants = variants_df.to_records()"
   ]
  },
  {
   "cell_type": "markdown",
   "metadata": {},
   "source": [
    "We have saved the Sei predictions for 1000 Genomes variants (which we use in another analysis). `chrom_start_tags.npy` and `chrom_end_tags.npy` are used just to figure out which files of Sei predictions we query in order to get the eQTL (variant) effect predictions for the GTEx tissues."
   ]
  },
  {
   "cell_type": "code",
   "execution_count": 9,
   "metadata": {},
   "outputs": [],
   "source": [
    "START_TAGS = np.load(os.path.join(\n",
    "    SEI_DIR, 'chrom_start_tags.npy'), allow_pickle=True).item()\n",
    "END_TAGS = np.load(os.path.join(\n",
    "    SEI_DIR, 'chrom_end_tags.npy'), allow_pickle=True).item()\n",
    "tags = set(END_TAGS.values()) | set(START_TAGS.values())\n",
    "tags = sorted(tags)"
   ]
  },
  {
   "cell_type": "code",
   "execution_count": 10,
   "metadata": {},
   "outputs": [],
   "source": [
    "def populate_dict(lt):\n",
    "    file_tag_dict = defaultdict(list)\n",
    "    not_matched = []\n",
    "    for row in lt:\n",
    "        chrom = row[1]\n",
    "        pos = row[2]\n",
    "        ref = row[3]\n",
    "        alt = row[4]\n",
    "        in_s_tags = []\n",
    "        in_e_tags = []\n",
    "        for (schrom, spos), tag in START_TAGS.items():\n",
    "            if schrom == chrom and pos >= spos:\n",
    "                in_s_tags.append(tag)\n",
    "        for (echrom, epos), tag in END_TAGS.items():\n",
    "            if echrom == chrom and pos <= epos:\n",
    "                in_e_tags.append(tag)\n",
    "        match_tag = list(set(in_s_tags) & set(in_e_tags))\n",
    "        if len(match_tag) != 1:\n",
    "            not_matched.append(row)\n",
    "        else:\n",
    "            file_tag_dict[match_tag[0]].append((chrom, pos, ref, alt))\n",
    "    return file_tag_dict, not_matched\n",
    "\n",
    "gtex_tag_1000G, gtex_nm = populate_dict(all_variants)"
   ]
  },
  {
   "cell_type": "markdown",
   "metadata": {},
   "source": [
    "(There are <0.02% variants that weren't mapped from the existing set of predictions)"
   ]
  },
  {
   "cell_type": "code",
   "execution_count": 11,
   "metadata": {},
   "outputs": [
    {
     "data": {
      "text/plain": [
       "(743, 4631714)"
      ]
     },
     "execution_count": 11,
     "metadata": {},
     "output_type": "execute_result"
    }
   ],
   "source": [
    "N_eQTLs = 0\n",
    "for lt in gtex_tag_1000G.values():\n",
    "    N_eQTLs += len(lt)\n",
    "len(gtex_nm), N_eQTLs"
   ]
  },
  {
   "cell_type": "markdown",
   "metadata": {},
   "source": [
    "Get the sequence class variant effect scores for the GTEx eQTLs. This will take a few minutes to run."
   ]
  },
  {
   "cell_type": "code",
   "execution_count": 12,
   "metadata": {},
   "outputs": [],
   "source": [
    "def get_scores(data_dir, score=\"diffs\"):\n",
    "    all_scores = []\n",
    "    all_dfs = []\n",
    "    for tag in tags:\n",
    "        print(tag)\n",
    "        lt = gtex_tag_1000G[tag]\n",
    "        scores = np.load(os.path.join(\n",
    "            data_dir, '1000Genomes.{0}.{1}.npy'.format(tag, score)))\n",
    "        rows_fp = os.path.join(\n",
    "            SEI_DIR, '1000G_vcfs', '1000Genomes.{0}.vcf'.format(tag))\n",
    "        df = pd.read_csv(rows_fp, sep='\\t', header=None)\n",
    "        df.columns = ['chrom', 'pos', 'id', 'ref', 'alt']\n",
    "        df['chrom'] = 'chr' + df['chrom'].astype(str)\n",
    "\n",
    "        index = list(df.index)  # this means the index will match the row labels file\n",
    "        df.set_index(['chrom', 'pos', 'ref', 'alt'], inplace=True)\n",
    "        df['ix'] = index\n",
    "        subset_df = df.loc[df.index.intersection(lt)]\n",
    "        subset_df.sort_values(['chrom', 'pos'], inplace=True)\n",
    "        subset_ixs = [int(ix) for ix in subset_df['ix']]\n",
    "        score_subset = scores[subset_ixs]\n",
    "        all_scores.append(score_subset)\n",
    "        all_dfs.append(subset_df)\n",
    "    return np.vstack(all_scores), pd.concat(all_dfs)"
   ]
  },
  {
   "cell_type": "code",
   "execution_count": 13,
   "metadata": {},
   "outputs": [
    {
     "name": "stdout",
     "output_type": "stream",
     "text": [
      "aa\n",
      "ab\n",
      "ac\n",
      "ad\n",
      "ae\n",
      "af\n",
      "ag\n",
      "ah\n",
      "ai\n",
      "aj\n",
      "ak\n",
      "al\n",
      "am\n",
      "an\n"
     ]
    },
    {
     "name": "stderr",
     "output_type": "stream",
     "text": [
      "/mnt/home/kchen/anaconda3/envs/sei-manu/lib/python3.7/site-packages/IPython/core/interactiveshell.py:3337: DtypeWarning: Columns (0) have mixed types.Specify dtype option on import or set low_memory=False.\n",
      "  if (await self.run_code(code, result,  async_=asy)):\n"
     ]
    }
   ],
   "source": [
    "SCORE_DIR = os.path.join(SEI_DIR, \"1000G_EUR_seqclass_scores\")\n",
    "seqclass_diffs, seqclass_diff_df = get_scores(SCORE_DIR, score='diffs')"
   ]
  },
  {
   "cell_type": "code",
   "execution_count": 14,
   "metadata": {},
   "outputs": [],
   "source": [
    "seqclass_diff_df['row_ix'] = list(range(len(seqclass_diff_df)))"
   ]
  },
  {
   "cell_type": "code",
   "execution_count": 15,
   "metadata": {},
   "outputs": [
    {
     "data": {
      "text/html": [
       "<div>\n",
       "<style scoped>\n",
       "    .dataframe tbody tr th:only-of-type {\n",
       "        vertical-align: middle;\n",
       "    }\n",
       "\n",
       "    .dataframe tbody tr th {\n",
       "        vertical-align: top;\n",
       "    }\n",
       "\n",
       "    .dataframe thead th {\n",
       "        text-align: right;\n",
       "    }\n",
       "</style>\n",
       "<table border=\"1\" class=\"dataframe\">\n",
       "  <thead>\n",
       "    <tr style=\"text-align: right;\">\n",
       "      <th></th>\n",
       "      <th></th>\n",
       "      <th></th>\n",
       "      <th></th>\n",
       "      <th>id</th>\n",
       "      <th>ix</th>\n",
       "      <th>row_ix</th>\n",
       "    </tr>\n",
       "    <tr>\n",
       "      <th>chrom</th>\n",
       "      <th>pos</th>\n",
       "      <th>ref</th>\n",
       "      <th>alt</th>\n",
       "      <th></th>\n",
       "      <th></th>\n",
       "      <th></th>\n",
       "    </tr>\n",
       "  </thead>\n",
       "  <tbody>\n",
       "    <tr>\n",
       "      <th rowspan=\"5\" valign=\"top\">chr1</th>\n",
       "      <th>54490</th>\n",
       "      <th>G</th>\n",
       "      <th>A</th>\n",
       "      <td>.</td>\n",
       "      <td>171</td>\n",
       "      <td>0</td>\n",
       "    </tr>\n",
       "    <tr>\n",
       "      <th>58814</th>\n",
       "      <th>G</th>\n",
       "      <th>A</th>\n",
       "      <td>.</td>\n",
       "      <td>254</td>\n",
       "      <td>1</td>\n",
       "    </tr>\n",
       "    <tr>\n",
       "      <th>60249</th>\n",
       "      <th>C</th>\n",
       "      <th>T</th>\n",
       "      <td>.</td>\n",
       "      <td>266</td>\n",
       "      <td>2</td>\n",
       "    </tr>\n",
       "    <tr>\n",
       "      <th>60351</th>\n",
       "      <th>A</th>\n",
       "      <th>G</th>\n",
       "      <td>.</td>\n",
       "      <td>268</td>\n",
       "      <td>3</td>\n",
       "    </tr>\n",
       "    <tr>\n",
       "      <th>61920</th>\n",
       "      <th>G</th>\n",
       "      <th>A</th>\n",
       "      <td>.</td>\n",
       "      <td>299</td>\n",
       "      <td>4</td>\n",
       "    </tr>\n",
       "  </tbody>\n",
       "</table>\n",
       "</div>"
      ],
      "text/plain": [
       "                    id   ix  row_ix\n",
       "chrom pos   ref alt                \n",
       "chr1  54490 G   A    .  171       0\n",
       "      58814 G   A    .  254       1\n",
       "      60249 C   T    .  266       2\n",
       "      60351 A   G    .  268       3\n",
       "      61920 G   A    .  299       4"
      ]
     },
     "execution_count": 15,
     "metadata": {},
     "output_type": "execute_result"
    }
   ],
   "source": [
    "seqclass_diff_df.head()"
   ]
  },
  {
   "cell_type": "markdown",
   "metadata": {},
   "source": [
    "Compute the Spearman's rank correlation for the top 15,000 sequence class variant effect scores and the corresponding eQTL effect sizes (slope). "
   ]
  },
  {
   "cell_type": "code",
   "execution_count": 16,
   "metadata": {},
   "outputs": [],
   "source": [
    "def get_diff_predictions(diff_data, diff_df):\n",
    "    all_diff_predictions = []\n",
    "    all_slopes = []\n",
    "    all_variants = []\n",
    "    for fn, records in tissue_variants_near_tss.items():\n",
    "        variants = [(r['chrom'], r['pos'], r['ref'], r['alt']) for r in records]\n",
    "        subset_df = diff_df.loc[diff_df.index.intersection(variants)]\n",
    "        subset_data = diff_data[subset_df['row_ix'].tolist()]\n",
    "        all_diff_predictions.append(subset_data)\n",
    "        \n",
    "        subset_variants = subset_df.index.tolist()\n",
    "        for v in subset_variants:\n",
    "            all_slopes.append(fn_vid_slopes[fn][v])\n",
    "            all_variants.append('_'.join([str(x) for x in v]))\n",
    "    \n",
    "    return np.vstack(all_diff_predictions), np.array(all_slopes), np.array(all_variants)"
   ]
  },
  {
   "cell_type": "code",
   "execution_count": 17,
   "metadata": {},
   "outputs": [],
   "source": [
    "def get_seqclass_slope_correlations_no_dups(input_diff_data, \n",
    "                                            input_slopes, \n",
    "                                            input_variants, \n",
    "                                            use_N=15000):\n",
    "    corrs = defaultdict(float)\n",
    "    pvalues = defaultdict(float)\n",
    "    sds = defaultdict(float)\n",
    "    avgs = defaultdict(float)\n",
    "    clusters = []\n",
    "    for c in range(40):\n",
    "        if 'HET' in MAPPING[c] or 'Low' in MAPPING[c]:\n",
    "            continue\n",
    "        clusters.append(c)\n",
    "        top_ixs = np.argsort(-1 * np.abs(input_diff_data[:, c]))\n",
    "        top_diffs = input_diff_data[top_ixs[:use_N], c]\n",
    "        top_slopes = input_slopes[top_ixs[:use_N]]\n",
    "        top_variants = input_variants[top_ixs[:use_N]]\n",
    "        \n",
    "        top_avg_slopes = defaultdict(list)\n",
    "        corresponding_diffs = {}\n",
    "        for i, v in enumerate(top_variants):\n",
    "            if v not in corresponding_diffs:\n",
    "                corresponding_diffs[v] = top_diffs[i]\n",
    "            top_avg_slopes[v].append(top_slopes[i]) \n",
    "        \n",
    "        top_diffs = [corresponding_diffs[k] for k in top_avg_slopes.keys()]\n",
    "        top_slopes = [np.average(slopes) for slopes in top_avg_slopes.values()]\n",
    "        r, p = spearmanr(top_diffs, top_slopes)\n",
    "        corrs[c] = r\n",
    "        pvalues[c] = p\n",
    "        sds[c] = np.std(np.abs(top_diffs))\n",
    "        avgs[c] = np.average(np.abs(top_diffs))\n",
    "    \n",
    "    pvalues = np.array([pvalues[c] for c in clusters])\n",
    "    corrs = np.array([corrs[c] for c in clusters])\n",
    "    sds = np.array([sds[c] for c in clusters])\n",
    "    avgs = np.array([avgs[c] for c in clusters])\n",
    "    \n",
    "    reject, pvs_corrected, _, _ = multipletests(\n",
    "        pvalues, alpha=0.01, method='fdr_bh', is_sorted=False)\n",
    "    for i, (corr, sd, pv) in enumerate(zip(corrs, sds, pvs_corrected)):\n",
    "        print(i, corr, sd, -np.log10(pv), pv < 0.05)\n",
    "    return np.array(clusters), corrs, pvs_corrected, sds, avgs"
   ]
  },
  {
   "cell_type": "code",
   "execution_count": 18,
   "metadata": {},
   "outputs": [],
   "source": [
    "sc_near_tss, sc_slopes, sc_variants = get_diff_predictions(seqclass_diffs, seqclass_diff_df)"
   ]
  },
  {
   "cell_type": "code",
   "execution_count": 19,
   "metadata": {},
   "outputs": [
    {
     "name": "stdout",
     "output_type": "stream",
     "text": [
      "0 -0.08019669733068138 0.3177059981571498 3.080948937192893 True\n",
      "1 -0.022534647221306773 0.6799108812690963 0.3990098431213617 False\n",
      "2 -0.018272035162478974 0.5994728476201411 0.3277784015779298 False\n",
      "3 0.06975528962882653 0.7304853341435054 2.425431261438215 True\n",
      "4 0.06894433460327667 0.49686390204839026 2.3543852904764577 True\n",
      "5 0.08402328518151321 0.46644264269310476 3.2634106988792193 True\n",
      "6 0.1066368824783435 1.6844704180612542 4.7202814639201405 True\n",
      "7 0.04124706387016578 0.3849664176307059 1.0998618133418203 False\n",
      "8 0.09550458920805814 0.8229149893572875 3.7585925152766935 True\n",
      "9 0.10265198697090869 1.5151010551691058 4.616618194423539 True\n",
      "10 0.07616886277563079 0.6723003428900357 3.0190964520761026 True\n",
      "11 -0.006032736773818042 0.350523084062826 0.0988811937943088 False\n",
      "12 0.11632536127818832 0.8540903880893299 5.228363931956797 True\n",
      "13 0.10630799604307775 0.72928325405817 4.7202814639201405 True\n",
      "14 0.06130307554154014 0.9173979578848382 2.0301329750536263 True\n",
      "15 -0.08585423249153407 0.29631254347115066 3.6306805695209854 True\n",
      "16 0.019169007117600088 0.36530428505194 0.33719704889891183 False\n",
      "17 0.13763803576821773 1.1841837851035901 6.741199578947915 True\n",
      "18 0.08323523055688424 0.629576245071975 3.1715535522129206 True\n",
      "19 0.06606386666091946 3.671342344087214 2.1970130849779776 True\n",
      "20 -0.026508915420674826 0.6191004633047237 0.4951307302632372 False\n",
      "21 0.0934396333170497 0.530153690672078 4.09607117165388 True\n",
      "22 0.08889989254995113 0.39429330753979003 3.643826973546166 True\n",
      "23 -0.10098124899059627 0.35770588467911557 4.616618194423539 True\n",
      "24 0.10345656489616137 0.7974195893971779 4.616618194423539 True\n",
      "25 0.1024644243481718 0.6744506724965315 4.641204958048946 True\n",
      "26 0.11545319136999391 1.3335086468276747 5.228363931956797 True\n"
     ]
    }
   ],
   "source": [
    "seqclasses, sc_corrs, sc_pvs, sc_sds, sc_avgs = get_seqclass_slope_correlations_no_dups(\n",
    "    sc_near_tss, sc_slopes, sc_variants, use_N=15000)"
   ]
  },
  {
   "cell_type": "markdown",
   "metadata": {},
   "source": [
    "Visualize the results"
   ]
  },
  {
   "cell_type": "code",
   "execution_count": 20,
   "metadata": {},
   "outputs": [
    {
     "data": {
      "text/plain": [
       "defaultdict(list,\n",
       "            {'E': [12, 16, 36, 38, 5, 30, 7, 26, 6, 9, 17, 13],\n",
       "             'CTCF': [27],\n",
       "             'P': [25],\n",
       "             'PC': [34, 0, 15, 20],\n",
       "             'HET': [11, 23, 29, 32, 35, 39],\n",
       "             'TN': [2, 3, 21, 28],\n",
       "             'TF': [37, 19, 14, 31, 10],\n",
       "             'L': [8, 18, 22, 24, 33, 1, 4]})"
      ]
     },
     "execution_count": 20,
     "metadata": {},
     "output_type": "execute_result"
    }
   ],
   "source": [
    "def num_split(s):\n",
    "    head = s.rstrip('0123456789')\n",
    "    tail = s[len(head):]\n",
    "    return head, tail\n",
    "\n",
    "class_categories = defaultdict(list)\n",
    "for c, label in MAPPING.items():\n",
    "    classname = label.split(' ')[0]\n",
    "    classtype, _ = num_split(classname)\n",
    "    class_categories[classtype].append(c)\n",
    "class_categories"
   ]
  },
  {
   "cell_type": "code",
   "execution_count": 21,
   "metadata": {},
   "outputs": [],
   "source": [
    "color_map = {\n",
    "    'E': \"#984ef3\",\n",
    "    'CTCF': \"#fdb462\",\n",
    "    'P': \"#ef3b2c\",\n",
    "    'PC': \"#8abad4\",\n",
    "    'HET': \"#662506\",\n",
    "    'TN': \"#fb9a99\",\n",
    "    'TF': \"#386cb0\",\n",
    "    'L': \"#C0C0C0\"\n",
    "}"
   ]
  },
  {
   "cell_type": "code",
   "execution_count": 22,
   "metadata": {},
   "outputs": [],
   "source": [
    "def plot_corr_stddev_volcano(clusters, corrs, fdrs, avg_diffs, savefile):\n",
    "    corrs = corrs\n",
    "    corr_sorted_ixs = np.argsort(-1 * corrs)\n",
    "    corrs = corrs[corr_sorted_ixs]\n",
    "    fdrs = fdrs[corr_sorted_ixs]\n",
    "    clusters = clusters[corr_sorted_ixs]\n",
    "    avg_diffs = avg_diffs[corr_sorted_ixs]\n",
    "    \n",
    "    pass_fdrs = fdrs[fdrs < 0.05]\n",
    "    pass_corrs = corrs[fdrs < 0.05]\n",
    "    rem_fdrs = fdrs[fdrs >= 0.05]\n",
    "    rem_corrs = corrs[fdrs >= 0.05]\n",
    "    \n",
    "    fig = plt.figure(figsize=(13, 10))\n",
    "    ax = fig.add_subplot(1, 1, 1)\n",
    "    \n",
    "    for label, classes in class_categories.items():\n",
    "        inter = np.in1d(clusters[fdrs < 0.05], classes)\n",
    "        ax.scatter(pass_corrs[inter], -np.log10(pass_fdrs)[inter],\n",
    "                   marker='o',\n",
    "                   s=100 + 15*-np.log10(pass_fdrs[inter]),\n",
    "                   alpha=0.7,\n",
    "                   color=color_map[label]) \n",
    "        for c, x, y in zip(clusters[fdrs < 0.05][inter],\n",
    "                           pass_corrs[inter],\n",
    "                           -np.log10(pass_fdrs)[inter]):\n",
    "            print(MAPPING[c], x, y)\n",
    "            ax.annotate(MAPPING[c], (x, y), fontsize=24)\n",
    "    \n",
    "    ax.scatter(rem_corrs, -np.log10(rem_fdrs),\n",
    "               marker='X', s=80, color='lightgray',\n",
    "               label='NS (fdr > 0.05)')\n",
    "    for c, x, y in zip(clusters[fdrs >= 0.05],\n",
    "                        rem_corrs,\n",
    "                        -np.log10(rem_fdrs)):\n",
    "        ax.annotate(MAPPING[c].split(' ')[0], (x, y), fontsize=22, c='#C0C0C0')\n",
    "        \n",
    "    ax.spines['left'].set_position('center')\n",
    "    \n",
    "    ax.legend(frameon=True, loc='lower right')\n",
    "    \n",
    "    ax.set_xlabel(\"Spearman's correlation\", fontsize=20)\n",
    "    ax.set_ylabel('-log10(p-value)', fontsize=20)\n",
    "    s, e = -1 * np.max(np.abs(corrs)), np.max(np.abs(corrs))\n",
    "    s += 0.01\n",
    "    e += 0.01\n",
    "    print(s, e)\n",
    "    ax.set_xlim([s, e])\n",
    "    plt.plot([s, e], [-np.log10(0.05), -np.log10(0.05)], linewidth=0.75, linestyle='--', c='gray')\n",
    "    plt.tight_layout()\n",
    "    plt.savefig(savefile, dpi=300)"
   ]
  },
  {
   "cell_type": "code",
   "execution_count": 23,
   "metadata": {},
   "outputs": [
    {
     "name": "stdout",
     "output_type": "stream",
     "text": [
      "E7 Monocyte / Macrophage 0.11632536127818832 5.228363931956797\n",
      "E12 Erythroblast-like 0.11545319136999391 5.228363931956797\n",
      "E4 Multi-tissue 0.1066368824783435 4.7202814639201405\n",
      "E8 Weak multi-tissue 0.10630799604307775 4.7202814639201405\n",
      "E11 T-cell 0.10345656489616137 4.616618194423539\n",
      "E6 Weak epithelial 0.10265198697090869 4.616618194423539\n",
      "E5 B-cell-like 0.09550458920805814 3.7585925152766935\n",
      "E10 Brain 0.0934396333170497 4.09607117165388\n",
      "E3 Brain / Melanocyte 0.08402328518151321 3.2634106988792193\n",
      "E9 Liver / Intestine 0.08323523055688424 3.1715535522129206\n",
      "E1 Stem cell 0.06975528962882653 2.425431261438215\n",
      "E2 Multi-tissue 0.06894433460327667 2.3543852904764577\n",
      "CTCF CTCF-Cohesin 0.06606386666091946 2.1970130849779776\n",
      "P Promoter 0.13763803576821773 6.741199578947915\n",
      "PC1 Polycomb / Heterochromatin -0.08019669733068138 3.080948937192893\n",
      "PC3 Polycomb -0.08585423249153407 3.6306805695209854\n",
      "PC4 Polycomb / Bivalent stem cell Enh -0.10098124899059627 4.616618194423539\n",
      "TF5 AR 0.1024644243481718 4.641204958048946\n",
      "TF4 OTX2 0.08889989254995113 3.643826973546166\n",
      "TF2 CEBPB 0.07616886277563079 3.0190964520761026\n",
      "TF3 FOXA1 / AR / ESR1 0.06130307554154014 2.0301329750536263\n",
      "-0.12763803576821772 0.14763803576821774\n"
     ]
    },
    {
     "data": {
      "image/png": "[encoded data removed]",
      "text/plain": [
       "<Figure size 936x720 with 1 Axes>"
      ]
     },
     "metadata": {},
     "output_type": "display_data"
    }
   ],
   "source": [
    "plot_corr_stddev_volcano(seqclasses, sc_corrs, sc_pvs, sc_avgs, \n",
    "    os.path.join(FIGS_DIR, 'threshold.gtex_slope.corr_pvalues.seqclass_variant_effects.pdf'))"
   ]
  }
 ],
 "metadata": {
  "kernelspec": {
   "display_name": "sei-manu",
   "language": "python",
   "name": "sei-manu"
  },
  "language_info": {
   "codemirror_mode": {
    "name": "ipython",
    "version": 3
   },
   "file_extension": ".py",
   "mimetype": "text/x-python",
   "name": "python",
   "nbconvert_exporter": "python",
   "pygments_lexer": "ipython3",
   "version": "3.7.10"
  }
 },
 "nbformat": 4,
 "nbformat_minor": 2
}
